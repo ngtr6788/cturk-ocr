{
 "cells": [
  {
   "cell_type": "markdown",
   "id": "3f791bee-98d0-42b3-ad15-0b41a6ea3b64",
   "metadata": {},
   "source": [
    "# Train and fine-tune an OCR model\n",
    "\n",
    "I will be using this guide here: https://colab.research.google.com/github/NielsRogge/Transformers-Tutorials/blob/master/TrOCR/Fine_tune_TrOCR_on_IAM_Handwriting_Database_using_Seq2SeqTrainer.ipynb\n",
    "\n",
    "How to build my image dataset: https://huggingface.co/docs/datasets/en/image_dataset\n",
    "\n",
    "I read this guide on setting the training parameters (see Seq2SeqTrainer part of the guide as well as the notebook) https://github.com/philschmid/document-ai-transformers/blob/main/training/donut_sroie.ipynb"
   ]
  },
  {
   "cell_type": "code",
   "execution_count": 1,
   "id": "a4ae5520-8cd4-4483-9a95-734dc18491ad",
   "metadata": {},
   "outputs": [
    {
     "name": "stdout",
     "output_type": "stream",
     "text": [
      "Collecting evaluate\n",
      "  Downloading evaluate-0.4.1-py3-none-any.whl (84 kB)\n",
      "\u001b[2K     \u001b[90m━━━━━━━━━━━━━━━━━━━━━━━━━━━━━━━━━━━━━━━━\u001b[0m \u001b[32m84.1/84.1 kB\u001b[0m \u001b[31m5.9 MB/s\u001b[0m eta \u001b[36m0:00:00\u001b[0m\n",
      "\u001b[?25hCollecting jiwer\n",
      "  Downloading jiwer-3.0.3-py3-none-any.whl (21 kB)\n",
      "Requirement already satisfied: fsspec[http]>=2021.05.0 in /usr/local/lib/python3.9/dist-packages (from evaluate) (2023.1.0)\n",
      "Requirement already satisfied: pandas in /usr/local/lib/python3.9/dist-packages (from evaluate) (1.5.0)\n",
      "Requirement already satisfied: tqdm>=4.62.1 in /usr/local/lib/python3.9/dist-packages (from evaluate) (4.64.1)\n",
      "Requirement already satisfied: xxhash in /usr/local/lib/python3.9/dist-packages (from evaluate) (3.2.0)\n",
      "Requirement already satisfied: requests>=2.19.0 in /usr/local/lib/python3.9/dist-packages (from evaluate) (2.28.2)\n",
      "Requirement already satisfied: responses<0.19 in /usr/local/lib/python3.9/dist-packages (from evaluate) (0.18.0)\n",
      "Requirement already satisfied: dill in /usr/local/lib/python3.9/dist-packages (from evaluate) (0.3.5.1)\n",
      "Requirement already satisfied: huggingface-hub>=0.7.0 in /usr/local/lib/python3.9/dist-packages (from evaluate) (0.12.0)\n",
      "Requirement already satisfied: datasets>=2.0.0 in /usr/local/lib/python3.9/dist-packages (from evaluate) (2.4.0)\n",
      "Requirement already satisfied: multiprocess in /usr/local/lib/python3.9/dist-packages (from evaluate) (0.70.13)\n",
      "Requirement already satisfied: packaging in /usr/local/lib/python3.9/dist-packages (from evaluate) (23.0)\n",
      "Requirement already satisfied: numpy>=1.17 in /usr/local/lib/python3.9/dist-packages (from evaluate) (1.23.4)\n",
      "Requirement already satisfied: click<9.0.0,>=8.1.3 in /usr/local/lib/python3.9/dist-packages (from jiwer) (8.1.3)\n",
      "Collecting rapidfuzz<4,>=3\n",
      "  Downloading rapidfuzz-3.8.1-cp39-cp39-manylinux_2_17_x86_64.manylinux2014_x86_64.whl (3.4 MB)\n",
      "\u001b[2K     \u001b[90m━━━━━━━━━━━━━━━━━━━━━━━━━━━━━━━━━━━━━━━━\u001b[0m \u001b[32m3.4/3.4 MB\u001b[0m \u001b[31m24.3 MB/s\u001b[0m eta \u001b[36m0:00:00\u001b[0m00:01\u001b[0m00:01\u001b[0m\n",
      "\u001b[?25hRequirement already satisfied: aiohttp in /usr/local/lib/python3.9/dist-packages (from datasets>=2.0.0->evaluate) (3.8.3)\n",
      "Requirement already satisfied: pyarrow>=6.0.0 in /usr/local/lib/python3.9/dist-packages (from datasets>=2.0.0->evaluate) (10.0.1)\n",
      "Requirement already satisfied: filelock in /usr/local/lib/python3.9/dist-packages (from huggingface-hub>=0.7.0->evaluate) (3.9.0)\n",
      "Requirement already satisfied: pyyaml>=5.1 in /usr/local/lib/python3.9/dist-packages (from huggingface-hub>=0.7.0->evaluate) (5.4.1)\n",
      "Requirement already satisfied: typing-extensions>=3.7.4.3 in /usr/local/lib/python3.9/dist-packages (from huggingface-hub>=0.7.0->evaluate) (4.4.0)\n",
      "Requirement already satisfied: idna<4,>=2.5 in /usr/lib/python3/dist-packages (from requests>=2.19.0->evaluate) (2.8)\n",
      "Requirement already satisfied: urllib3<1.27,>=1.21.1 in /usr/local/lib/python3.9/dist-packages (from requests>=2.19.0->evaluate) (1.26.14)\n",
      "Requirement already satisfied: charset-normalizer<4,>=2 in /usr/local/lib/python3.9/dist-packages (from requests>=2.19.0->evaluate) (2.1.1)\n",
      "Requirement already satisfied: certifi>=2017.4.17 in /usr/lib/python3/dist-packages (from requests>=2.19.0->evaluate) (2019.11.28)\n",
      "Requirement already satisfied: pytz>=2020.1 in /usr/local/lib/python3.9/dist-packages (from pandas->evaluate) (2022.7.1)\n",
      "Requirement already satisfied: python-dateutil>=2.8.1 in /usr/local/lib/python3.9/dist-packages (from pandas->evaluate) (2.8.2)\n",
      "Requirement already satisfied: async-timeout<5.0,>=4.0.0a3 in /usr/local/lib/python3.9/dist-packages (from aiohttp->datasets>=2.0.0->evaluate) (4.0.2)\n",
      "Requirement already satisfied: aiosignal>=1.1.2 in /usr/local/lib/python3.9/dist-packages (from aiohttp->datasets>=2.0.0->evaluate) (1.3.1)\n",
      "Requirement already satisfied: frozenlist>=1.1.1 in /usr/local/lib/python3.9/dist-packages (from aiohttp->datasets>=2.0.0->evaluate) (1.3.3)\n",
      "Requirement already satisfied: multidict<7.0,>=4.5 in /usr/local/lib/python3.9/dist-packages (from aiohttp->datasets>=2.0.0->evaluate) (6.0.4)\n",
      "Requirement already satisfied: attrs>=17.3.0 in /usr/local/lib/python3.9/dist-packages (from aiohttp->datasets>=2.0.0->evaluate) (18.2.0)\n",
      "Requirement already satisfied: yarl<2.0,>=1.0 in /usr/local/lib/python3.9/dist-packages (from aiohttp->datasets>=2.0.0->evaluate) (1.8.2)\n",
      "Requirement already satisfied: six>=1.5 in /usr/lib/python3/dist-packages (from python-dateutil>=2.8.1->pandas->evaluate) (1.14.0)\n",
      "Installing collected packages: rapidfuzz, jiwer, evaluate\n",
      "Successfully installed evaluate-0.4.1 jiwer-3.0.3 rapidfuzz-3.8.1\n",
      "\u001b[33mWARNING: Running pip as the 'root' user can result in broken permissions and conflicting behaviour with the system package manager. It is recommended to use a virtual environment instead: https://pip.pypa.io/warnings/venv\u001b[0m\u001b[33m\n",
      "\u001b[0m"
     ]
    }
   ],
   "source": [
    "!pip install evaluate jiwer"
   ]
  },
  {
   "cell_type": "code",
   "execution_count": 2,
   "id": "53369b64-1f8f-4040-847b-f60514ce8252",
   "metadata": {},
   "outputs": [
    {
     "data": {
      "text/html": [
       "<div>\n",
       "<style scoped>\n",
       "    .dataframe tbody tr th:only-of-type {\n",
       "        vertical-align: middle;\n",
       "    }\n",
       "\n",
       "    .dataframe tbody tr th {\n",
       "        vertical-align: top;\n",
       "    }\n",
       "\n",
       "    .dataframe thead th {\n",
       "        text-align: right;\n",
       "    }\n",
       "</style>\n",
       "<table border=\"1\" class=\"dataframe\">\n",
       "  <thead>\n",
       "    <tr style=\"text-align: right;\">\n",
       "      <th></th>\n",
       "      <th>file_name</th>\n",
       "      <th>text</th>\n",
       "    </tr>\n",
       "  </thead>\n",
       "  <tbody>\n",
       "    <tr>\n",
       "      <th>0</th>\n",
       "      <td>addition_application.png</td>\n",
       "      <td>addition application coffee trade environment ...</td>\n",
       "    </tr>\n",
       "    <tr>\n",
       "      <th>1</th>\n",
       "      <td>case_week.png</td>\n",
       "      <td>case week group recognition transportation com...</td>\n",
       "    </tr>\n",
       "    <tr>\n",
       "      <th>2</th>\n",
       "      <td>combination_school.png</td>\n",
       "      <td>combination school responsibility average year...</td>\n",
       "    </tr>\n",
       "    <tr>\n",
       "      <th>3</th>\n",
       "      <td>concept_administration.png</td>\n",
       "      <td>concept administration sign device reaction so...</td>\n",
       "    </tr>\n",
       "    <tr>\n",
       "      <th>4</th>\n",
       "      <td>dealer_passenger.png</td>\n",
       "      <td>dealer passenger tension intention responsibil...</td>\n",
       "    </tr>\n",
       "    <tr>\n",
       "      <th>5</th>\n",
       "      <td>discussion_guidance.png</td>\n",
       "      <td>discussion guidance language interest light re...</td>\n",
       "    </tr>\n",
       "    <tr>\n",
       "      <th>6</th>\n",
       "      <td>efficiency_answer.png</td>\n",
       "      <td>efficiency answer chance ability intention tim...</td>\n",
       "    </tr>\n",
       "    <tr>\n",
       "      <th>7</th>\n",
       "      <td>engine_paper.png</td>\n",
       "      <td>engine paper intention category reaction incom...</td>\n",
       "    </tr>\n",
       "    <tr>\n",
       "      <th>8</th>\n",
       "      <td>hearing_winner.png</td>\n",
       "      <td>hearing winner book building importance improv...</td>\n",
       "    </tr>\n",
       "    <tr>\n",
       "      <th>9</th>\n",
       "      <td>manufacturer_care.png</td>\n",
       "      <td>manufacturer care page charity piano nothing r...</td>\n",
       "    </tr>\n",
       "    <tr>\n",
       "      <th>10</th>\n",
       "      <td>month_opinion.png</td>\n",
       "      <td>month opinion buyer soup significance trade co...</td>\n",
       "    </tr>\n",
       "    <tr>\n",
       "      <th>11</th>\n",
       "      <td>personality_environment.png</td>\n",
       "      <td>personality environment platform impression ra...</td>\n",
       "    </tr>\n",
       "    <tr>\n",
       "      <th>12</th>\n",
       "      <td>possibility_meat.png</td>\n",
       "      <td>possibility meat argument foundation force not...</td>\n",
       "    </tr>\n",
       "    <tr>\n",
       "      <th>13</th>\n",
       "      <td>professor_game.png</td>\n",
       "      <td>professor game classroom country organization ...</td>\n",
       "    </tr>\n",
       "    <tr>\n",
       "      <th>14</th>\n",
       "      <td>record_company.png</td>\n",
       "      <td>record company place resource state warning ps...</td>\n",
       "    </tr>\n",
       "    <tr>\n",
       "      <th>15</th>\n",
       "      <td>recording_organization.png</td>\n",
       "      <td>recording organization dirt responsibility yea...</td>\n",
       "    </tr>\n",
       "    <tr>\n",
       "      <th>16</th>\n",
       "      <td>selection_mood.png</td>\n",
       "      <td>selection mood bottom poetry period engine spe...</td>\n",
       "    </tr>\n",
       "    <tr>\n",
       "      <th>17</th>\n",
       "      <td>skill_language.png</td>\n",
       "      <td>skill language art hall difference way session...</td>\n",
       "    </tr>\n",
       "    <tr>\n",
       "      <th>18</th>\n",
       "      <td>standard_knowledge.png</td>\n",
       "      <td>standard knowledge trainer video theory term l...</td>\n",
       "    </tr>\n",
       "    <tr>\n",
       "      <th>19</th>\n",
       "      <td>strategy_article.png</td>\n",
       "      <td>strategy article construction outcome process ...</td>\n",
       "    </tr>\n",
       "    <tr>\n",
       "      <th>20</th>\n",
       "      <td>supermarket_chance.png</td>\n",
       "      <td>supermarket chance insect feedback preference ...</td>\n",
       "    </tr>\n",
       "    <tr>\n",
       "      <th>21</th>\n",
       "      <td>theory_charity.png</td>\n",
       "      <td>theory charity picture politics ability term s...</td>\n",
       "    </tr>\n",
       "    <tr>\n",
       "      <th>22</th>\n",
       "      <td>trainer_stock.png</td>\n",
       "      <td>trainer stock problem research wind advice fie...</td>\n",
       "    </tr>\n",
       "    <tr>\n",
       "      <th>23</th>\n",
       "      <td>way_performance.png</td>\n",
       "      <td>way performance web physics security page dinn...</td>\n",
       "    </tr>\n",
       "  </tbody>\n",
       "</table>\n",
       "</div>"
      ],
      "text/plain": [
       "                      file_name  \\\n",
       "0      addition_application.png   \n",
       "1                 case_week.png   \n",
       "2        combination_school.png   \n",
       "3    concept_administration.png   \n",
       "4          dealer_passenger.png   \n",
       "5       discussion_guidance.png   \n",
       "6         efficiency_answer.png   \n",
       "7              engine_paper.png   \n",
       "8            hearing_winner.png   \n",
       "9         manufacturer_care.png   \n",
       "10            month_opinion.png   \n",
       "11  personality_environment.png   \n",
       "12         possibility_meat.png   \n",
       "13           professor_game.png   \n",
       "14           record_company.png   \n",
       "15   recording_organization.png   \n",
       "16           selection_mood.png   \n",
       "17           skill_language.png   \n",
       "18       standard_knowledge.png   \n",
       "19         strategy_article.png   \n",
       "20       supermarket_chance.png   \n",
       "21           theory_charity.png   \n",
       "22            trainer_stock.png   \n",
       "23          way_performance.png   \n",
       "\n",
       "                                                 text  \n",
       "0   addition application coffee trade environment ...  \n",
       "1   case week group recognition transportation com...  \n",
       "2   combination school responsibility average year...  \n",
       "3   concept administration sign device reaction so...  \n",
       "4   dealer passenger tension intention responsibil...  \n",
       "5   discussion guidance language interest light re...  \n",
       "6   efficiency answer chance ability intention tim...  \n",
       "7   engine paper intention category reaction incom...  \n",
       "8   hearing winner book building importance improv...  \n",
       "9   manufacturer care page charity piano nothing r...  \n",
       "10  month opinion buyer soup significance trade co...  \n",
       "11  personality environment platform impression ra...  \n",
       "12  possibility meat argument foundation force not...  \n",
       "13  professor game classroom country organization ...  \n",
       "14  record company place resource state warning ps...  \n",
       "15  recording organization dirt responsibility yea...  \n",
       "16  selection mood bottom poetry period engine spe...  \n",
       "17  skill language art hall difference way session...  \n",
       "18  standard knowledge trainer video theory term l...  \n",
       "19  strategy article construction outcome process ...  \n",
       "20  supermarket chance insect feedback preference ...  \n",
       "21  theory charity picture politics ability term s...  \n",
       "22  trainer stock problem research wind advice fie...  \n",
       "23  way performance web physics security page dinn...  "
      ]
     },
     "execution_count": 2,
     "metadata": {},
     "output_type": "execute_result"
    }
   ],
   "source": [
    "from datasets import Dataset\n",
    "import pandas as pd\n",
    "\n",
    "images_df = pd.read_csv(\"images/metadata.csv\")\n",
    "images_ds = Dataset.from_pandas(images_df)\n",
    "images_df"
   ]
  },
  {
   "cell_type": "code",
   "execution_count": 3,
   "id": "6ccb93b7-65b3-4256-8031-2522a99e2923",
   "metadata": {},
   "outputs": [
    {
     "data": {
      "application/vnd.jupyter.widget-view+json": {
       "model_id": "8f09f8249dba46db828020a7b2c8d940",
       "version_major": 2,
       "version_minor": 0
      },
      "text/plain": [
       "Downloading preprocessor_config.json:   0%|          | 0.00/228 [00:00<?, ?B/s]"
      ]
     },
     "metadata": {},
     "output_type": "display_data"
    },
    {
     "data": {
      "application/vnd.jupyter.widget-view+json": {
       "model_id": "ccda87beb1f349acb606d108d85803c0",
       "version_major": 2,
       "version_minor": 0
      },
      "text/plain": [
       "Downloading tokenizer_config.json:   0%|          | 0.00/1.09k [00:00<?, ?B/s]"
      ]
     },
     "metadata": {},
     "output_type": "display_data"
    },
    {
     "data": {
      "application/vnd.jupyter.widget-view+json": {
       "model_id": "d175950662584c4f96afd9a6a9a30c10",
       "version_major": 2,
       "version_minor": 0
      },
      "text/plain": [
       "Downloading vocab.json:   0%|          | 0.00/878k [00:00<?, ?B/s]"
      ]
     },
     "metadata": {},
     "output_type": "display_data"
    },
    {
     "data": {
      "application/vnd.jupyter.widget-view+json": {
       "model_id": "15491ad72e9d4567ad269e2b791bcda3",
       "version_major": 2,
       "version_minor": 0
      },
      "text/plain": [
       "Downloading merges.txt:   0%|          | 0.00/446k [00:00<?, ?B/s]"
      ]
     },
     "metadata": {},
     "output_type": "display_data"
    },
    {
     "data": {
      "application/vnd.jupyter.widget-view+json": {
       "model_id": "9a3dcb5967664aae90de38f885e5e802",
       "version_major": 2,
       "version_minor": 0
      },
      "text/plain": [
       "Downloading special_tokens_map.json:   0%|          | 0.00/772 [00:00<?, ?B/s]"
      ]
     },
     "metadata": {},
     "output_type": "display_data"
    },
    {
     "data": {
      "application/vnd.jupyter.widget-view+json": {
       "model_id": "6f91cfe848f04124bb79443287ecd61c",
       "version_major": 2,
       "version_minor": 0
      },
      "text/plain": [
       "Downloading config.json:   0%|          | 0.00/4.03k [00:00<?, ?B/s]"
      ]
     },
     "metadata": {},
     "output_type": "display_data"
    },
    {
     "data": {
      "application/vnd.jupyter.widget-view+json": {
       "model_id": "64f79019f8ef4309954e15e4dd287a1e",
       "version_major": 2,
       "version_minor": 0
      },
      "text/plain": [
       "Downloading pytorch_model.bin:   0%|          | 0.00/1.24G [00:00<?, ?B/s]"
      ]
     },
     "metadata": {},
     "output_type": "display_data"
    },
    {
     "name": "stderr",
     "output_type": "stream",
     "text": [
      "Some weights of VisionEncoderDecoderModel were not initialized from the model checkpoint at microsoft/trocr-base-printed and are newly initialized: ['encoder.pooler.dense.bias', 'encoder.pooler.dense.weight']\n",
      "You should probably TRAIN this model on a down-stream task to be able to use it for predictions and inference.\n"
     ]
    }
   ],
   "source": [
    "from transformers import TrOCRProcessor, VisionEncoderDecoderModel\n",
    "\n",
    "model_name = \"microsoft/trocr-base-printed\"\n",
    "processor = TrOCRProcessor.from_pretrained(model_name)\n",
    "model = VisionEncoderDecoderModel.from_pretrained(model_name)"
   ]
  },
  {
   "cell_type": "code",
   "execution_count": 4,
   "id": "916c4bfc-3521-4ca3-ab98-78272eb8e974",
   "metadata": {},
   "outputs": [],
   "source": [
    "from PIL import Image\n",
    "from pathlib import Path\n",
    "import torch\n",
    "\n",
    "def create_image_and_process_text(item):\n",
    "    file_name = item[\"file_name\"]\n",
    "    text = item[\"text\"]\n",
    "\n",
    "    file_path = Path(\"images\") / file_name\n",
    "\n",
    "    image = Image.open(file_path).convert(\"RGB\")\n",
    "    \n",
    "    pixel_values = processor(image, return_tensors=\"pt\").pixel_values\n",
    "    pixel_values = pixel_values.squeeze()\n",
    "\n",
    "    labels = processor.tokenizer(text, padding=\"max_length\", max_length=16).input_ids\n",
    "    labels = torch.tensor(labels)\n",
    "\n",
    "    encoding = { \"pixel_values\": pixel_values, \"labels\": labels }\n",
    "    return encoding"
   ]
  },
  {
   "cell_type": "code",
   "execution_count": 5,
   "id": "e8114f1b-45a4-4b87-9350-89bb15c14257",
   "metadata": {},
   "outputs": [
    {
     "data": {
      "application/vnd.jupyter.widget-view+json": {
       "model_id": "9c313ba395a74a8aa7ad7be1ba4844a9",
       "version_major": 2,
       "version_minor": 0
      },
      "text/plain": [
       "  0%|          | 0/24 [00:00<?, ?ex/s]"
      ]
     },
     "metadata": {},
     "output_type": "display_data"
    }
   ],
   "source": [
    "inout_images_ds = images_ds.map(create_image_and_process_text, remove_columns=[\"file_name\", \"text\"]) "
   ]
  },
  {
   "cell_type": "code",
   "execution_count": 6,
   "id": "fabf9f7f-255d-4295-9910-302164c284b3",
   "metadata": {},
   "outputs": [
    {
     "data": {
      "text/plain": [
       "(Dataset({\n",
       "     features: ['pixel_values', 'labels'],\n",
       "     num_rows: 18\n",
       " }),\n",
       " Dataset({\n",
       "     features: ['pixel_values', 'labels'],\n",
       "     num_rows: 6\n",
       " }))"
      ]
     },
     "execution_count": 6,
     "metadata": {},
     "output_type": "execute_result"
    }
   ],
   "source": [
    "from operator import itemgetter\n",
    "\n",
    "train_test_ds = inout_images_ds.train_test_split()\n",
    "train_dataset, eval_dataset = itemgetter(\"train\", \"test\")(train_test_ds)\n",
    "train_dataset, eval_dataset"
   ]
  },
  {
   "cell_type": "code",
   "execution_count": 7,
   "id": "6f8de7e5-73d6-48ce-ab15-026e1758196b",
   "metadata": {},
   "outputs": [],
   "source": [
    "model.config.decoder_start_token_id = processor.tokenizer.cls_token_id\n",
    "model.config.pad_token_id = processor.tokenizer.pad_token_id\n",
    "\n",
    "model.config.vocab_size = model.config.decoder.vocab_size\n",
    "model.config.eos_token_id = processor.tokenizer.sep_token_id\n",
    "\n",
    "# model.config.max_length = 16\n",
    "# model.config.early_stopping = True\n",
    "# model.config.no_repeat_ngram_size = 3\n",
    "# model.config.length_penalty = 2.0\n",
    "# model.config.num_beams = 4"
   ]
  },
  {
   "cell_type": "code",
   "execution_count": 8,
   "id": "2813b6d7-5edf-490e-a372-9bba5a6bacf6",
   "metadata": {},
   "outputs": [],
   "source": [
    "from transformers import Seq2SeqTrainer, Seq2SeqTrainingArguments\n",
    "\n",
    "training_args = Seq2SeqTrainingArguments(\n",
    "    predict_with_generate=True,\n",
    "    num_train_epochs=16,\n",
    "    learning_rate=2e-5,\n",
    "    weight_decay=0.01,\n",
    "    # logging_steps=100,\n",
    "    evaluation_strategy=\"epoch\",\n",
    "    per_device_train_batch_size=1,\n",
    "    per_device_eval_batch_size=1,\n",
    "    fp16=True,\n",
    "    output_dir=\"./\",\n",
    "    # logging_steps=2,\n",
    "    # save_steps=1000,\n",
    "    # eval_steps=200,\n",
    "    report_to=\"none\",\n",
    ")"
   ]
  },
  {
   "cell_type": "code",
   "execution_count": 9,
   "id": "8126f563-ae13-4cf3-a873-9ddccbc699c3",
   "metadata": {},
   "outputs": [
    {
     "data": {
      "application/vnd.jupyter.widget-view+json": {
       "model_id": "2379e543b0d84bf7a73350422f2953b9",
       "version_major": 2,
       "version_minor": 0
      },
      "text/plain": [
       "Downloading builder script:   0%|          | 0.00/5.60k [00:00<?, ?B/s]"
      ]
     },
     "metadata": {},
     "output_type": "display_data"
    }
   ],
   "source": [
    "from evaluate import load\n",
    "\n",
    "cer_metric = load(\"cer\")"
   ]
  },
  {
   "cell_type": "code",
   "execution_count": 10,
   "id": "47e5b38f-9722-4f59-81d1-042e1aaaa824",
   "metadata": {},
   "outputs": [],
   "source": [
    "def compute_metrics(pred):\n",
    "    labels_ids = pred.label_ids\n",
    "    pred_ids = pred.predictions\n",
    "    \n",
    "    pred_str = processor.batch_decode(pred_ids, skip_special_tokens=True)\n",
    "    label_str = processor.batch_decode(labels_ids, skip_special_tokens=True)\n",
    "\n",
    "    print(pred_str, label_str)\n",
    "\n",
    "    cer = cer_metric.compute(predictions=pred_str, references=label_str)\n",
    "\n",
    "    return { \"character_error_rate\": cer }"
   ]
  },
  {
   "cell_type": "code",
   "execution_count": 11,
   "id": "4af8b0e0-695f-4ac1-a69a-1512633f6966",
   "metadata": {},
   "outputs": [
    {
     "name": "stderr",
     "output_type": "stream",
     "text": [
      "Using cuda_amp half precision backend\n"
     ]
    }
   ],
   "source": [
    "from transformers import default_data_collator\n",
    "\n",
    "# instantiate trainer\n",
    "trainer = Seq2SeqTrainer(\n",
    "    model=model,\n",
    "    tokenizer=processor.feature_extractor,\n",
    "    args=training_args,\n",
    "    compute_metrics=compute_metrics,\n",
    "    train_dataset=train_dataset,\n",
    "    eval_dataset=eval_dataset,\n",
    "    data_collator=default_data_collator,\n",
    ")"
   ]
  },
  {
   "cell_type": "code",
   "execution_count": 12,
   "id": "dac54900-8764-49c9-bd17-292a64201281",
   "metadata": {},
   "outputs": [
    {
     "name": "stderr",
     "output_type": "stream",
     "text": [
      "/usr/local/lib/python3.9/dist-packages/transformers/optimization.py:306: FutureWarning: This implementation of AdamW is deprecated and will be removed in a future version. Use the PyTorch implementation torch.optim.AdamW instead, or set `no_deprecation_warning=True` to disable this warning\n",
      "  warnings.warn(\n",
      "***** Running training *****\n",
      "  Num examples = 18\n",
      "  Num Epochs = 16\n",
      "  Instantaneous batch size per device = 1\n",
      "  Total train batch size (w. parallel, distributed & accumulation) = 1\n",
      "  Gradient Accumulation steps = 1\n",
      "  Total optimization steps = 288\n"
     ]
    },
    {
     "data": {
      "text/html": [
       "\n",
       "    <div>\n",
       "      \n",
       "      <progress value='288' max='288' style='width:300px; height:20px; vertical-align: middle;'></progress>\n",
       "      [288/288 08:21, Epoch 16/16]\n",
       "    </div>\n",
       "    <table border=\"1\" class=\"dataframe\">\n",
       "  <thead>\n",
       " <tr style=\"text-align: left;\">\n",
       "      <th>Epoch</th>\n",
       "      <th>Training Loss</th>\n",
       "      <th>Validation Loss</th>\n",
       "      <th>Character Error Rate</th>\n",
       "    </tr>\n",
       "  </thead>\n",
       "  <tbody>\n",
       "    <tr>\n",
       "      <td>1</td>\n",
       "      <td>No log</td>\n",
       "      <td>4.881782</td>\n",
       "      <td>0.809249</td>\n",
       "    </tr>\n",
       "    <tr>\n",
       "      <td>2</td>\n",
       "      <td>No log</td>\n",
       "      <td>3.932956</td>\n",
       "      <td>0.728324</td>\n",
       "    </tr>\n",
       "    <tr>\n",
       "      <td>3</td>\n",
       "      <td>No log</td>\n",
       "      <td>3.328248</td>\n",
       "      <td>0.630058</td>\n",
       "    </tr>\n",
       "    <tr>\n",
       "      <td>4</td>\n",
       "      <td>No log</td>\n",
       "      <td>2.075616</td>\n",
       "      <td>0.549133</td>\n",
       "    </tr>\n",
       "    <tr>\n",
       "      <td>5</td>\n",
       "      <td>No log</td>\n",
       "      <td>2.274999</td>\n",
       "      <td>0.479769</td>\n",
       "    </tr>\n",
       "    <tr>\n",
       "      <td>6</td>\n",
       "      <td>No log</td>\n",
       "      <td>2.693207</td>\n",
       "      <td>0.462428</td>\n",
       "    </tr>\n",
       "    <tr>\n",
       "      <td>7</td>\n",
       "      <td>No log</td>\n",
       "      <td>1.408315</td>\n",
       "      <td>0.358382</td>\n",
       "    </tr>\n",
       "    <tr>\n",
       "      <td>8</td>\n",
       "      <td>No log</td>\n",
       "      <td>2.297039</td>\n",
       "      <td>0.381503</td>\n",
       "    </tr>\n",
       "    <tr>\n",
       "      <td>9</td>\n",
       "      <td>No log</td>\n",
       "      <td>1.063546</td>\n",
       "      <td>0.381503</td>\n",
       "    </tr>\n",
       "    <tr>\n",
       "      <td>10</td>\n",
       "      <td>No log</td>\n",
       "      <td>1.191752</td>\n",
       "      <td>0.213873</td>\n",
       "    </tr>\n",
       "    <tr>\n",
       "      <td>11</td>\n",
       "      <td>No log</td>\n",
       "      <td>0.990552</td>\n",
       "      <td>0.135838</td>\n",
       "    </tr>\n",
       "    <tr>\n",
       "      <td>12</td>\n",
       "      <td>No log</td>\n",
       "      <td>0.513084</td>\n",
       "      <td>0.115607</td>\n",
       "    </tr>\n",
       "    <tr>\n",
       "      <td>13</td>\n",
       "      <td>No log</td>\n",
       "      <td>1.219836</td>\n",
       "      <td>0.156069</td>\n",
       "    </tr>\n",
       "    <tr>\n",
       "      <td>14</td>\n",
       "      <td>No log</td>\n",
       "      <td>0.457803</td>\n",
       "      <td>0.089595</td>\n",
       "    </tr>\n",
       "    <tr>\n",
       "      <td>15</td>\n",
       "      <td>No log</td>\n",
       "      <td>0.415351</td>\n",
       "      <td>0.080925</td>\n",
       "    </tr>\n",
       "    <tr>\n",
       "      <td>16</td>\n",
       "      <td>No log</td>\n",
       "      <td>0.358191</td>\n",
       "      <td>0.078035</td>\n",
       "    </tr>\n",
       "  </tbody>\n",
       "</table><p>"
      ],
      "text/plain": [
       "<IPython.core.display.HTML object>"
      ]
     },
     "metadata": {},
     "output_type": "display_data"
    },
    {
     "name": "stderr",
     "output_type": "stream",
     "text": [
      "***** Running Evaluation *****\n",
      "  Num examples = 6\n",
      "  Batch size = 1\n"
     ]
    },
    {
     "name": "stdout",
     "output_type": "stream",
     "text": [
      "['wayway environment', ' environment environment environment', ' environment environment environment environment', 'way environment', 'way', 'way environment environment environment'] ['addition application coffee trade environment competition', 'discussion guidance language interest light region mall situation', 'supermarket chance insect feedback preference impression', 'standard knowledge trainer video theory term line penalty', 'possibility meat argument foundation force nothing honey', 'manufacturer care page charity piano nothing resolution']\n"
     ]
    },
    {
     "name": "stderr",
     "output_type": "stream",
     "text": [
      "***** Running Evaluation *****\n",
      "  Num examples = 6\n",
      "  Batch size = 1\n"
     ]
    },
    {
     "name": "stdout",
     "output_type": "stream",
     "text": [
      "['add opinion opinion company company company company', 'sponsationstream session sign sign sign sign', 'sponsategy experience importance importance importance', 'stratory intention responsibility intention intention time', 'personer responsibility responsibility notice room room', 'handhandhand responsibility session'] ['addition application coffee trade environment competition', 'discussion guidance language interest light region mall situation', 'supermarket chance insect feedback preference impression', 'standard knowledge trainer video theory term line penalty', 'possibility meat argument foundation force nothing honey', 'manufacturer care page charity piano nothing resolution']\n"
     ]
    },
    {
     "name": "stderr",
     "output_type": "stream",
     "text": [
      "***** Running Evaluation *****\n",
      "  Num examples = 6\n",
      "  Batch size = 1\n"
     ]
    },
    {
     "name": "stdout",
     "output_type": "stream",
     "text": [
      "['addination opinion importance advice advice', 'discessoressor game game game right sign', 'supermarket chance chance chance chance', 'seREAD knowledge knowledge way way time', 'POSibility time agreement agreement', 'manufact manufacturer change change change'] ['addition application coffee trade environment competition', 'discussion guidance language interest light region mall situation', 'supermarket chance insect feedback preference impression', 'standard knowledge trainer video theory term line penalty', 'possibility meat argument foundation force nothing honey', 'manufacturer care page charity piano nothing resolution']\n"
     ]
    },
    {
     "name": "stderr",
     "output_type": "stream",
     "text": [
      "***** Running Evaluation *****\n",
      "  Num examples = 6\n",
      "  Batch size = 1\n"
     ]
    },
    {
     "name": "stdout",
     "output_type": "stream",
     "text": [
      "['add opinion application offer environment commitment competition competition', 'disc opinion game process interest sign region mall', 'super chant reaction research performance impression impression impression', 'stARD knowledge knowledge wind responsibility time penalty', 'presibility meet agreement combination organization force mob', ' manufacturer game charity plan no'] ['addition application coffee trade environment competition', 'discussion guidance language interest light region mall situation', 'supermarket chance insect feedback preference impression', 'standard knowledge trainer video theory term line penalty', 'possibility meat argument foundation force nothing honey', 'manufacturer care page charity piano nothing resolution']\n"
     ]
    },
    {
     "name": "stderr",
     "output_type": "stream",
     "text": [
      "***** Running Evaluation *****\n",
      "  Num examples = 6\n",
      "  Batch size = 1\n"
     ]
    },
    {
     "name": "stdout",
     "output_type": "stream",
     "text": [
      "['addination application offer offer environment competition competition', 'discOSED game language language sign sign sign mall', 'superishment chance chance chance year reference impression', 'standardstrANDer knowledge wind time year', 'ppANY agreement organization morphology', 'manufacturerurer game charity plan conditioning resolution'] ['addition application coffee trade environment competition', 'discussion guidance language interest light region mall situation', 'supermarket chance insect feedback preference impression', 'standard knowledge trainer video theory term line penalty', 'possibility meat argument foundation force nothing honey', 'manufacturer care page charity piano nothing resolution']\n"
     ]
    },
    {
     "name": "stderr",
     "output_type": "stream",
     "text": [
      "***** Running Evaluation *****\n",
      "  Num examples = 6\n",
      "  Batch size = 1\n"
     ]
    },
    {
     "name": "stdout",
     "output_type": "stream",
     "text": [
      "['addition opinion difference trade environment', 'discussion dimension language interest soil', 'supermemark contractendant importance impression', 'standardhand knowledge wind intention penalty', 'personality answer agreement foundation holding', 'manufacturerurerurer category machine resolution'] ['addition application coffee trade environment competition', 'discussion guidance language interest light region mall situation', 'supermarket chance insect feedback preference impression', 'standard knowledge trainer video theory term line penalty', 'possibility meat argument foundation force nothing honey', 'manufacturer care page charity piano nothing resolution']\n"
     ]
    },
    {
     "name": "stderr",
     "output_type": "stream",
     "text": [
      "***** Running Evaluation *****\n",
      "  Num examples = 6\n",
      "  Batch size = 1\n"
     ]
    },
    {
     "name": "stdout",
     "output_type": "stream",
     "text": [
      "['addition opinion difference trade environment composition', 'discussion guide language interest right region stall', 'supermarket chance chance chance feed back impression', 'stander boarder knowledge winder', 'personality meet argument foundation notice room time', 'manufacturer car page charity plano noBUBION'] ['addition application coffee trade environment competition', 'discussion guidance language interest light region mall situation', 'supermarket chance insect feedback preference impression', 'standard knowledge trainer video theory term line penalty', 'possibility meat argument foundation force nothing honey', 'manufacturer care page charity piano nothing resolution']\n"
     ]
    },
    {
     "name": "stderr",
     "output_type": "stream",
     "text": [
      "***** Running Evaluation *****\n",
      "  Num examples = 6\n",
      "  Batch size = 1\n"
     ]
    },
    {
     "name": "stdout",
     "output_type": "stream",
     "text": [
      "['addition opinion trade environment composition', 'discOSED language interest impression mall', 'super chant chance research performance impression', 'SAND knowledge trade theory term line penalty', 'personality organization foundation force mob', 'manufacturer care charity plan no obligation'] ['addition application coffee trade environment competition', 'discussion guidance language interest light region mall situation', 'supermarket chance insect feedback preference impression', 'standard knowledge trainer video theory term line penalty', 'possibility meat argument foundation force nothing honey', 'manufacturer care page charity piano nothing resolution']\n"
     ]
    },
    {
     "name": "stderr",
     "output_type": "stream",
     "text": [
      "***** Running Evaluation *****\n",
      "  Num examples = 6\n",
      "  Batch size = 1\n"
     ]
    },
    {
     "name": "stdout",
     "output_type": "stream",
     "text": [
      "[' addition application offer trade environment composition', 'discOSED language interest intention mall', 'supermarket chance tract feedback period performance impression', 'hand knowledge trade winner wind wind responsibility time', 'personality manner organization form notice holding', 'manufacturer care page charity plano nocluding'] ['addition application coffee trade environment competition', 'discussion guidance language interest light region mall situation', 'supermarket chance insect feedback preference impression', 'standard knowledge trainer video theory term line penalty', 'possibility meat argument foundation force nothing honey', 'manufacturer care page charity piano nothing resolution']\n"
     ]
    },
    {
     "name": "stderr",
     "output_type": "stream",
     "text": [
      "***** Running Evaluation *****\n",
      "  Num examples = 6\n",
      "  Batch size = 1\n"
     ]
    },
    {
     "name": "stdout",
     "output_type": "stream",
     "text": [
      "['addition application coffee trade environment composition', 'discussion guide language interest right right region', 'super chant chance insert performance impression', 'standard knowledge trade video theory term time penalty', 'personality meat argument foundation force nothing money', 'manufact manufacturer care page charity plan no soil'] ['addition application coffee trade environment competition', 'discussion guidance language interest light region mall situation', 'supermarket chance insect feedback preference impression', 'standard knowledge trainer video theory term line penalty', 'possibility meat argument foundation force nothing honey', 'manufacturer care page charity piano nothing resolution']\n"
     ]
    },
    {
     "name": "stderr",
     "output_type": "stream",
     "text": [
      "***** Running Evaluation *****\n",
      "  Num examples = 6\n",
      "  Batch size = 1\n"
     ]
    },
    {
     "name": "stdout",
     "output_type": "stream",
     "text": [
      "['addition application coffee trade environment competition', 'discussion guidance language interest light region soil', 'supermarket chance insert feedback impression', 'standard knowledge trainer video theory term time penalty', 'POSality meat argument foundation force nothing honey', 'manufacturer care page charity plan no soil'] ['addition application coffee trade environment competition', 'discussion guidance language interest light region mall situation', 'supermarket chance insect feedback preference impression', 'standard knowledge trainer video theory term line penalty', 'possibility meat argument foundation force nothing honey', 'manufacturer care page charity piano nothing resolution']\n"
     ]
    },
    {
     "name": "stderr",
     "output_type": "stream",
     "text": [
      "***** Running Evaluation *****\n",
      "  Num examples = 6\n",
      "  Batch size = 1\n"
     ]
    },
    {
     "name": "stdout",
     "output_type": "stream",
     "text": [
      "['addition application coffee trade environment competition', 'discessor guidance language interest right region mall', 'supermarket chance insert feedback preference impression', 'stARD knowledge trainer video theory term time penalty', 'posality meat argument foundation force nothing honey', 'manufacturer care page charity plan no obligation'] ['addition application coffee trade environment competition', 'discussion guidance language interest light region mall situation', 'supermarket chance insect feedback preference impression', 'standard knowledge trainer video theory term line penalty', 'possibility meat argument foundation force nothing honey', 'manufacturer care page charity piano nothing resolution']\n"
     ]
    },
    {
     "name": "stderr",
     "output_type": "stream",
     "text": [
      "***** Running Evaluation *****\n",
      "  Num examples = 6\n",
      "  Batch size = 1\n"
     ]
    },
    {
     "name": "stdout",
     "output_type": "stream",
     "text": [
      "['addition application coffee trade environment competition', 'discessor guidance language interest right region soil', 'supermarket chance insert feedback impression', 'standard knowledge trainer video theory term time penalty', 'personality meat argument foundation nothing honey', 'manufacturer care page charity plan no obligation'] ['addition application coffee trade environment competition', 'discussion guidance language interest light region mall situation', 'supermarket chance insect feedback preference impression', 'standard knowledge trainer video theory term line penalty', 'possibility meat argument foundation force nothing honey', 'manufacturer care page charity piano nothing resolution']\n"
     ]
    },
    {
     "name": "stderr",
     "output_type": "stream",
     "text": [
      "***** Running Evaluation *****\n",
      "  Num examples = 6\n",
      "  Batch size = 1\n"
     ]
    },
    {
     "name": "stdout",
     "output_type": "stream",
     "text": [
      "['addition application coffee trade environment competition', 'discussion guidance language interest light region mall', 'supermarket chance insert feedback preference impression', 'standard knowledge trainer video theory term time penalty', 'personality meat argument foundation force nothing honey', 'manufacturer care page charity plan no obligation'] ['addition application coffee trade environment competition', 'discussion guidance language interest light region mall situation', 'supermarket chance insect feedback preference impression', 'standard knowledge trainer video theory term line penalty', 'possibility meat argument foundation force nothing honey', 'manufacturer care page charity piano nothing resolution']\n"
     ]
    },
    {
     "name": "stderr",
     "output_type": "stream",
     "text": [
      "***** Running Evaluation *****\n",
      "  Num examples = 6\n",
      "  Batch size = 1\n"
     ]
    },
    {
     "name": "stdout",
     "output_type": "stream",
     "text": [
      "['addition application coffee trade environment competition', 'discussion guidance language interest light region mall su', 'supermarket chance insert feedback preference impression', 'standard knowledge trainer video theory term time penalty', 'personality meat argument foundation force nothing honey', 'manufacturer care page charity plan no obligation'] ['addition application coffee trade environment competition', 'discussion guidance language interest light region mall situation', 'supermarket chance insect feedback preference impression', 'standard knowledge trainer video theory term line penalty', 'possibility meat argument foundation force nothing honey', 'manufacturer care page charity piano nothing resolution']\n"
     ]
    },
    {
     "name": "stderr",
     "output_type": "stream",
     "text": [
      "***** Running Evaluation *****\n",
      "  Num examples = 6\n",
      "  Batch size = 1\n"
     ]
    },
    {
     "name": "stdout",
     "output_type": "stream",
     "text": [
      "['addition application coffee trade environment competition', 'discussion guidance language interest light region mall su', 'supermarket chance insert feedback preference impression', 'standard knowledge trainer video theory term time penalty', 'personality meat argument foundation force nothing honey', 'manufacturer care page charity plan noHD election'] ['addition application coffee trade environment competition', 'discussion guidance language interest light region mall situation', 'supermarket chance insect feedback preference impression', 'standard knowledge trainer video theory term line penalty', 'possibility meat argument foundation force nothing honey', 'manufacturer care page charity piano nothing resolution']\n"
     ]
    },
    {
     "name": "stderr",
     "output_type": "stream",
     "text": [
      "\n",
      "\n",
      "Training completed. Do not forget to share your model on huggingface.co/models =)\n",
      "\n",
      "\n"
     ]
    },
    {
     "data": {
      "text/plain": [
       "TrainOutput(global_step=288, training_loss=1.3577116860283747, metrics={'train_runtime': 511.9958, 'train_samples_per_second': 0.563, 'train_steps_per_second': 0.563, 'total_flos': 2.155061350068388e+17, 'train_loss': 1.3577116860283747, 'epoch': 16.0})"
      ]
     },
     "execution_count": 12,
     "metadata": {},
     "output_type": "execute_result"
    }
   ],
   "source": [
    "trainer.train()"
   ]
  },
  {
   "cell_type": "code",
   "execution_count": 15,
   "id": "15d329e9-c8a0-4a7c-99f7-ca974d1312c6",
   "metadata": {},
   "outputs": [
    {
     "name": "stderr",
     "output_type": "stream",
     "text": [
      "Configuration saved in my-trocr-model/config.json\n",
      "Model weights saved in my-trocr-model/pytorch_model.bin\n",
      "Feature extractor saved in my-trocr-model/preprocessor_config.json\n",
      "tokenizer config file saved in my-trocr-model/tokenizer_config.json\n",
      "Special tokens file saved in my-trocr-model/special_tokens_map.json\n"
     ]
    }
   ],
   "source": [
    "save_model = False\n",
    "if save_model:\n",
    "    model.save_pretrained(\"my-trocr-model\", from_pt=True)\n",
    "    processor.save_pretrained(\"my-trocr-model\", from_pt=True)"
   ]
  }
 ],
 "metadata": {
  "kernelspec": {
   "display_name": "Python 3 (ipykernel)",
   "language": "python",
   "name": "python3"
  },
  "language_info": {
   "codemirror_mode": {
    "name": "ipython",
    "version": 3
   },
   "file_extension": ".py",
   "mimetype": "text/x-python",
   "name": "python",
   "nbconvert_exporter": "python",
   "pygments_lexer": "ipython3",
   "version": "3.9.16"
  }
 },
 "nbformat": 4,
 "nbformat_minor": 5
}
