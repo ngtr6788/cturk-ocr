{
 "cells": [
  {
   "cell_type": "markdown",
   "id": "3f791bee-98d0-42b3-ad15-0b41a6ea3b64",
   "metadata": {},
   "source": [
    "# Train and fine-tune an OCR model\n",
    "\n",
    "I will be using this guide here: https://colab.research.google.com/github/NielsRogge/Transformers-Tutorials/blob/master/TrOCR/Fine_tune_TrOCR_on_IAM_Handwriting_Database_using_Seq2SeqTrainer.ipynb\n",
    "\n",
    "How to build my image dataset: https://huggingface.co/docs/datasets/en/image_dataset"
   ]
  },
  {
   "cell_type": "code",
   "execution_count": 1,
   "id": "53369b64-1f8f-4040-847b-f60514ce8252",
   "metadata": {},
   "outputs": [],
   "source": [
    "from datasets import Dataset\n",
    "import pandas as pd\n",
    "\n",
    "images_df = pd.read_csv(\"images/metadata.csv\")\n",
    "images_ds = Dataset.from_pandas(images_df)"
   ]
  },
  {
   "cell_type": "code",
   "execution_count": 2,
   "id": "6ccb93b7-65b3-4256-8031-2522a99e2923",
   "metadata": {},
   "outputs": [
    {
     "name": "stderr",
     "output_type": "stream",
     "text": [
      "Could not find image processor class in the image processor config or the model config. Loading based on pattern matching with the model's feature extractor configuration. Please open a PR/issue to update `preprocessor_config.json` to use `image_processor_type` instead of `feature_extractor_type`. This warning will be removed in v4.40.\n",
      "Some weights of VisionEncoderDecoderModel were not initialized from the model checkpoint at microsoft/trocr-small-printed and are newly initialized: ['encoder.pooler.dense.bias', 'encoder.pooler.dense.weight']\n",
      "You should probably TRAIN this model on a down-stream task to be able to use it for predictions and inference.\n"
     ]
    }
   ],
   "source": [
    "from transformers import TrOCRProcessor, VisionEncoderDecoderModel\n",
    "\n",
    "model_name = \"microsoft/trocr-small-printed\"\n",
    "processor = TrOCRProcessor.from_pretrained(model_name)\n",
    "model = VisionEncoderDecoderModel.from_pretrained(model_name)"
   ]
  },
  {
   "cell_type": "code",
   "execution_count": 3,
   "id": "916c4bfc-3521-4ca3-ab98-78272eb8e974",
   "metadata": {},
   "outputs": [],
   "source": [
    "from PIL import Image\n",
    "from pathlib import Path\n",
    "import torch\n",
    "\n",
    "def create_image_and_process_text(item):\n",
    "    file_name = item[\"file_name\"]\n",
    "    text = item[\"text\"]\n",
    "\n",
    "    file_path = Path(\"images\") / file_name\n",
    "\n",
    "    image = Image.open(file_path).convert(\"RGB\")\n",
    "    \n",
    "    pixel_values = processor(image, return_tensors=\"pt\").pixel_values\n",
    "    pixel_values = pixel_values.squeeze()\n",
    "\n",
    "    labels = processor.tokenizer(text, padding=\"max_length\", max_length=128).input_ids\n",
    "    labels = [label if label != processor.tokenizer.pad_token_id else -100 for label in labels]\n",
    "    labels = torch.tensor(labels)\n",
    "\n",
    "    encoding = { \"pixel_values\": pixel_values, \"labels\": labels }\n",
    "    return encoding"
   ]
  },
  {
   "cell_type": "code",
   "execution_count": 4,
   "id": "e8114f1b-45a4-4b87-9350-89bb15c14257",
   "metadata": {},
   "outputs": [
    {
     "data": {
      "application/vnd.jupyter.widget-view+json": {
       "model_id": "fcaed19e04e84a44ae69b3eb6098fbab",
       "version_major": 2,
       "version_minor": 0
      },
      "text/plain": [
       "Map:   0%|          | 0/8 [00:00<?, ? examples/s]"
      ]
     },
     "metadata": {},
     "output_type": "display_data"
    }
   ],
   "source": [
    "images_ds = images_ds.map(create_image_and_process_text, batched=False) "
   ]
  },
  {
   "cell_type": "code",
   "execution_count": 5,
   "id": "fabf9f7f-255d-4295-9910-302164c284b3",
   "metadata": {},
   "outputs": [
    {
     "data": {
      "text/plain": [
       "(Dataset({\n",
       "     features: ['file_name', 'text', 'pixel_values', 'labels'],\n",
       "     num_rows: 6\n",
       " }),\n",
       " Dataset({\n",
       "     features: ['file_name', 'text', 'pixel_values', 'labels'],\n",
       "     num_rows: 2\n",
       " }))"
      ]
     },
     "execution_count": 5,
     "metadata": {},
     "output_type": "execute_result"
    }
   ],
   "source": [
    "from operator import itemgetter\n",
    "\n",
    "train_test_ds = images_ds.train_test_split()\n",
    "train_dataset, eval_dataset = itemgetter(\"train\", \"test\")(train_test_ds)\n",
    "train_dataset, eval_dataset"
   ]
  },
  {
   "cell_type": "code",
   "execution_count": 6,
   "id": "6f8de7e5-73d6-48ce-ab15-026e1758196b",
   "metadata": {},
   "outputs": [],
   "source": [
    "# set special tokens used for creating the decoder_input_ids from the labels\n",
    "model.config.decoder_start_token_id = processor.tokenizer.cls_token_id\n",
    "model.config.pad_token_id = processor.tokenizer.pad_token_id\n",
    "# make sure vocab size is set correctly\n",
    "model.config.vocab_size = model.config.decoder.vocab_size\n",
    "\n",
    "# set beam search parameters\n",
    "model.config.eos_token_id = processor.tokenizer.sep_token_id\n",
    "model.config.max_length = 64\n",
    "model.config.early_stopping = True\n",
    "model.config.no_repeat_ngram_size = 3\n",
    "model.config.length_penalty = 2.0\n",
    "model.config.num_beams = 4"
   ]
  },
  {
   "cell_type": "code",
   "execution_count": 19,
   "id": "2813b6d7-5edf-490e-a372-9bba5a6bacf6",
   "metadata": {},
   "outputs": [],
   "source": [
    "from transformers import Seq2SeqTrainer, Seq2SeqTrainingArguments\n",
    "\n",
    "training_args = Seq2SeqTrainingArguments(\n",
    "    predict_with_generate=True,\n",
    "    num_train_epochs=10,\n",
    "    evaluation_strategy=\"epoch\",\n",
    "    per_device_train_batch_size=1,\n",
    "    per_device_eval_batch_size=1,\n",
    "    # fp16=True, \n",
    "    output_dir=\"./\",\n",
    "    logging_steps=2,\n",
    "    save_steps=1000,\n",
    "    eval_steps=200,\n",
    ")"
   ]
  },
  {
   "cell_type": "code",
   "execution_count": 20,
   "id": "8126f563-ae13-4cf3-a873-9ddccbc699c3",
   "metadata": {},
   "outputs": [
    {
     "name": "stderr",
     "output_type": "stream",
     "text": [
      "/root/.pyenv/versions/mambaforge/envs/cturk-ocr-env/lib/python3.12/site-packages/datasets/load.py:759: FutureWarning: The repository for cer contains custom code which must be executed to correctly load the metric. You can inspect the repository content at https://raw.githubusercontent.com/huggingface/datasets/2.19.0/metrics/cer/cer.py\n",
      "You can avoid this message in future by passing the argument `trust_remote_code=True`.\n",
      "Passing `trust_remote_code=True` will be mandatory to load this metric from the next major release of `datasets`.\n",
      "  warnings.warn(\n"
     ]
    }
   ],
   "source": [
    "from datasets import load_metric\n",
    "\n",
    "cer_metric = load_metric(\"cer\")"
   ]
  },
  {
   "cell_type": "code",
   "execution_count": 21,
   "id": "47e5b38f-9722-4f59-81d1-042e1aaaa824",
   "metadata": {},
   "outputs": [],
   "source": [
    "def compute_metrics(pred):\n",
    "    labels_ids = pred.label_ids\n",
    "    pred_ids = pred.predictions\n",
    "\n",
    "    pred_str = processor.batch_decode(pred_ids, skip_special_tokens=True)\n",
    "    labels_ids[labels_ids == -100] = processor.tokenizer.pad_token_id\n",
    "    label_str = processor.batch_decode(labels_ids, skip_special_tokens=True)\n",
    "\n",
    "    print(pred_str, label_str)\n",
    "\n",
    "    cer = cer_metric.compute(predictions=pred_str, references=label_str)\n",
    "\n",
    "    return { \"character_error_rate\": cer }"
   ]
  },
  {
   "cell_type": "code",
   "execution_count": 22,
   "id": "4af8b0e0-695f-4ac1-a69a-1512633f6966",
   "metadata": {},
   "outputs": [
    {
     "name": "stderr",
     "output_type": "stream",
     "text": [
      "/root/.pyenv/versions/mambaforge/envs/cturk-ocr-env/lib/python3.12/site-packages/transformers/models/trocr/processing_trocr.py:136: FutureWarning: `feature_extractor` is deprecated and will be removed in v5. Use `image_processor` instead.\n",
      "  warnings.warn(\n",
      "/root/.pyenv/versions/mambaforge/envs/cturk-ocr-env/lib/python3.12/site-packages/accelerate/accelerator.py:436: FutureWarning: Passing the following arguments to `Accelerator` is deprecated and will be removed in version 1.0 of Accelerate: dict_keys(['dispatch_batches', 'split_batches', 'even_batches', 'use_seedable_sampler']). Please pass an `accelerate.DataLoaderConfiguration` instead: \n",
      "dataloader_config = DataLoaderConfiguration(dispatch_batches=None, split_batches=False, even_batches=True, use_seedable_sampler=True)\n",
      "  warnings.warn(\n"
     ]
    }
   ],
   "source": [
    "from transformers import default_data_collator\n",
    "\n",
    "# instantiate trainer\n",
    "trainer = Seq2SeqTrainer(\n",
    "    model=model,\n",
    "    tokenizer=processor.feature_extractor,\n",
    "    args=training_args,\n",
    "    compute_metrics=compute_metrics,\n",
    "    train_dataset=train_dataset,\n",
    "    eval_dataset=eval_dataset,\n",
    "    data_collator=default_data_collator,\n",
    ")"
   ]
  },
  {
   "cell_type": "code",
   "execution_count": null,
   "id": "dac54900-8764-49c9-bd17-292a64201281",
   "metadata": {},
   "outputs": [
    {
     "data": {
      "text/html": [
       "\n",
       "    <div>\n",
       "      \n",
       "      <progress value='43' max='60' style='width:300px; height:20px; vertical-align: middle;'></progress>\n",
       "      [43/60 03:52 < 01:36, 0.18 it/s, Epoch 7/10]\n",
       "    </div>\n",
       "    <table border=\"1\" class=\"dataframe\">\n",
       "  <thead>\n",
       " <tr style=\"text-align: left;\">\n",
       "      <th>Epoch</th>\n",
       "      <th>Training Loss</th>\n",
       "      <th>Validation Loss</th>\n",
       "      <th>Character Error Rate</th>\n",
       "    </tr>\n",
       "  </thead>\n",
       "  <tbody>\n",
       "    <tr>\n",
       "      <td>1</td>\n",
       "      <td>8.669300</td>\n",
       "      <td>8.483727</td>\n",
       "      <td>0.836850</td>\n",
       "    </tr>\n",
       "    <tr>\n",
       "      <td>2</td>\n",
       "      <td>7.881100</td>\n",
       "      <td>8.267612</td>\n",
       "      <td>0.818565</td>\n",
       "    </tr>\n",
       "    <tr>\n",
       "      <td>3</td>\n",
       "      <td>7.899500</td>\n",
       "      <td>8.262975</td>\n",
       "      <td>0.821378</td>\n",
       "    </tr>\n",
       "    <tr>\n",
       "      <td>4</td>\n",
       "      <td>7.380500</td>\n",
       "      <td>8.245132</td>\n",
       "      <td>0.734177</td>\n",
       "    </tr>\n",
       "    <tr>\n",
       "      <td>5</td>\n",
       "      <td>7.259100</td>\n",
       "      <td>8.258827</td>\n",
       "      <td>0.857947</td>\n",
       "    </tr>\n",
       "    <tr>\n",
       "      <td>6</td>\n",
       "      <td>7.220900</td>\n",
       "      <td>8.238214</td>\n",
       "      <td>0.842475</td>\n",
       "    </tr>\n",
       "  </tbody>\n",
       "</table><p>\n",
       "    <div>\n",
       "      \n",
       "      <progress value='1' max='2' style='width:300px; height:20px; vertical-align: middle;'></progress>\n",
       "      [1/2 : < :]\n",
       "    </div>\n",
       "    "
      ],
      "text/plain": [
       "<IPython.core.display.HTML object>"
      ]
     },
     "metadata": {},
     "output_type": "display_data"
    },
    {
     "name": "stdout",
     "output_type": "stream",
     "text": [
      "['portion invention invention amount amount amount method amount amount role amount amount', 'portion invention amount amount amount method amount amount'] ['combination oven stock elevator law variety revolution orange inside insect signature championship sense memory promotion class magazine meat importance practice elevator aunt university equipment issue confusion distribution speech recording medium comparison tradition movie volume home case addition table boss college top guide while night storage', 'language metal sympathy boss map studio assumption cash bath chocolate work city philosophy percentage activity community attitude celebration university machine society sun customer video interest agency egg salad surgery boss director instance contact football criticism course hotel bottom boat construction hair amount period story condition engine library']\n",
      "['information vehicle vehicle vehicle hair hair hair vehicle hair vehicle vehicle school hair hair school hair vehicle school vehicle school school vehicle hair school school hair body hair hair health hair hair body vehicle hair body school hair school vehicle vehicle sense hair hair night hair hair habit hair hair', 'profession vehicle vehicle vehicle hair hair hair vehicle vehicle school hair hair school vehicle school vehicle hair vehicle school school hair vehicle hair body hair hair body vehicle hair school school school vehicle vehicle sense hair hair night hair hair health hair hair history school hair school hair body school school body vehicle vehicle body vehicle school body school hair health vehicle hair'] ['combination oven stock elevator law variety revolution orange inside insect signature championship sense memory promotion class magazine meat importance practice elevator aunt university equipment issue confusion distribution speech recording medium comparison tradition movie volume home case addition table boss college top guide while night storage', 'language metal sympathy boss map studio assumption cash bath chocolate work city philosophy percentage activity community attitude celebration university machine society sun customer video interest agency egg salad surgery boss director instance contact football criticism course hotel bottom boat construction hair amount period story condition engine library']\n",
      "['exception exception result role result result result role role result issue result result issue role role role issue result issue issue role result role issue issue issue result role idea issue issue idea issue role issue role idea idea issue idea idea idea role issue idea role role idea role result idea issue result idea idea result issue idea result role industry issue', 'exception exception result role result role role role result result result issue result issue role result issue issue role role issue result role issue role issue issue result result role idea issue issue issue idea issue role idea role issue idea role role idea idea issue result idea issue idea idea idea role idea result issue amount role issue vehicle role issue agreement'] ['combination oven stock elevator law variety revolution orange inside insect signature championship sense memory promotion class magazine meat importance practice elevator aunt university equipment issue confusion distribution speech recording medium comparison tradition movie volume home case addition table boss college top guide while night storage', 'language metal sympathy boss map studio assumption cash bath chocolate work city philosophy percentage activity community attitude celebration university machine society sun customer video interest agency egg salad surgery boss director instance contact football criticism course hotel bottom boat construction hair amount period story condition engine library']\n",
      "['property exception exception role result result result role role result role result amount role role role source role role amount role result method role role nature role result source role result nature role role', 'property exception exception role result result result role role role result role result amount role role source role result source role role vehicle role role nature role role amount role result sense role role sense role result nature role result vehicle role result event role role event role result'] ['combination oven stock elevator law variety revolution orange inside insect signature championship sense memory promotion class magazine meat importance practice elevator aunt university equipment issue confusion distribution speech recording medium comparison tradition movie volume home case addition table boss college top guide while night storage', 'language metal sympathy boss map studio assumption cash bath chocolate work city philosophy percentage activity community attitude celebration university machine society sun customer video interest agency egg salad surgery boss director instance contact football criticism course hotel bottom boat construction hair amount period story condition engine library']\n",
      "['property profession vehicle vehicle hair hair hair vehicle hair vehicle school hair hair school hair school school school box hair hair box hair school box box hair box box box school school hair vehicle box hair vehicle vehicle school school vehicle school box school box vehicle hair box school hair box vehicle school vehicle box box vehicle box vehicle vehicle vehicle box school', 'property profession vehicle vehicle hair hair hair vehicle vehicle vehicle school school school vehicle school hair hair school hair school school hair vehicle school box school school box vehicle school vehicle hair school vehicle vehicle box hair school box hair hair box hair vehicle hair vehicle box vehicle hair box box hair box vehicle vehicle sense vehicle school fountain hair hair sense school'] ['combination oven stock elevator law variety revolution orange inside insect signature championship sense memory promotion class magazine meat importance practice elevator aunt university equipment issue confusion distribution speech recording medium comparison tradition movie volume home case addition table boss college top guide while night storage', 'language metal sympathy boss map studio assumption cash bath chocolate work city philosophy percentage activity community attitude celebration university machine society sun customer video interest agency egg salad surgery boss director instance contact football criticism course hotel bottom boat construction hair amount period story condition engine library']\n",
      "['gift idea idea idea box idea box box box hair hair box box idea hair box hair box', 'gift idea idea idea hair hair hair box box box hair box idea box box idea hair box hair hair'] ['combination oven stock elevator law variety revolution orange inside insect signature championship sense memory promotion class magazine meat importance practice elevator aunt university equipment issue confusion distribution speech recording medium comparison tradition movie volume home case addition table boss college top guide while night storage', 'language metal sympathy boss map studio assumption cash bath chocolate work city philosophy percentage activity community attitude celebration university machine society sun customer video interest agency egg salad surgery boss director instance contact football criticism course hotel bottom boat construction hair amount period story condition engine library']\n"
     ]
    }
   ],
   "source": [
    "trainer.train();"
   ]
  }
 ],
 "metadata": {
  "kernelspec": {
   "display_name": "Python 3 (ipykernel)",
   "language": "python",
   "name": "python3"
  },
  "language_info": {
   "codemirror_mode": {
    "name": "ipython",
    "version": 3
   },
   "file_extension": ".py",
   "mimetype": "text/x-python",
   "name": "python",
   "nbconvert_exporter": "python",
   "pygments_lexer": "ipython3",
   "version": "3.12.3"
  }
 },
 "nbformat": 4,
 "nbformat_minor": 5
}
