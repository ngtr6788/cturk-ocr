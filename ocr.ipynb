{
 "cells": [
  {
   "cell_type": "markdown",
   "id": "3f791bee-98d0-42b3-ad15-0b41a6ea3b64",
   "metadata": {},
   "source": [
    "# Train and fine-tune an OCR model\n",
    "\n",
    "I will be using this guide here: https://colab.research.google.com/github/NielsRogge/Transformers-Tutorials/blob/master/TrOCR/Fine_tune_TrOCR_on_IAM_Handwriting_Database_using_Seq2SeqTrainer.ipynb\n",
    "\n",
    "How to build my image dataset: https://huggingface.co/docs/datasets/en/image_dataset"
   ]
  },
  {
   "cell_type": "code",
   "execution_count": null,
   "id": "53369b64-1f8f-4040-847b-f60514ce8252",
   "metadata": {},
   "outputs": [],
   "source": [
    "from datasets import Dataset\n",
    "import pandas as pd\n",
    "\n",
    "images_df = pd.read_csv(\"images/metadata.csv\")\n",
    "images_ds = Dataset.from_pandas(images_df)\n",
    "images_df"
   ]
  },
  {
   "cell_type": "code",
   "execution_count": null,
   "id": "6ccb93b7-65b3-4256-8031-2522a99e2923",
   "metadata": {},
   "outputs": [],
   "source": [
    "from transformers import TrOCRProcessor, VisionEncoderDecoderModel\n",
    "\n",
    "model_name = \"microsoft/trocr-base-printed\"\n",
    "processor = TrOCRProcessor.from_pretrained(model_name)\n",
    "model = VisionEncoderDecoderModel.from_pretrained(model_name)"
   ]
  },
  {
   "cell_type": "code",
   "execution_count": null,
   "id": "916c4bfc-3521-4ca3-ab98-78272eb8e974",
   "metadata": {},
   "outputs": [],
   "source": [
    "from PIL import Image\n",
    "from pathlib import Path\n",
    "import torch\n",
    "\n",
    "def create_image_and_process_text(item):\n",
    "    file_name = item[\"file_name\"]\n",
    "    text = item[\"text\"]\n",
    "\n",
    "    file_path = Path(\"images\") / file_name\n",
    "\n",
    "    image = Image.open(file_path).convert(\"RGB\")\n",
    "    \n",
    "    pixel_values = processor(image, return_tensors=\"pt\").pixel_values\n",
    "    pixel_values = pixel_values.squeeze()\n",
    "\n",
    "    labels = processor.tokenizer(text, padding=\"max_length\", max_length=16).input_ids\n",
    "    labels = torch.tensor(labels)\n",
    "\n",
    "    encoding = { \"pixel_values\": pixel_values, \"labels\": labels }\n",
    "    return encoding"
   ]
  },
  {
   "cell_type": "code",
   "execution_count": null,
   "id": "e8114f1b-45a4-4b87-9350-89bb15c14257",
   "metadata": {},
   "outputs": [],
   "source": [
    "inout_images_ds = images_ds.map(create_image_and_process_text, remove_columns=[\"file_name\", \"text\"]) "
   ]
  },
  {
   "cell_type": "code",
   "execution_count": null,
   "id": "fabf9f7f-255d-4295-9910-302164c284b3",
   "metadata": {},
   "outputs": [],
   "source": [
    "from operator import itemgetter\n",
    "\n",
    "train_test_ds = inout_images_ds.train_test_split()\n",
    "train_dataset, eval_dataset = itemgetter(\"train\", \"test\")(train_test_ds)\n",
    "train_dataset, eval_dataset"
   ]
  },
  {
   "cell_type": "code",
   "execution_count": null,
   "id": "6f8de7e5-73d6-48ce-ab15-026e1758196b",
   "metadata": {},
   "outputs": [],
   "source": [
    "model.config.decoder_start_token_id = processor.tokenizer.cls_token_id\n",
    "model.config.pad_token_id = processor.tokenizer.pad_token_id\n",
    "\n",
    "model.config.vocab_size = model.config.decoder.vocab_size\n",
    "model.config.eos_token_id = processor.tokenizer.sep_token_id\n",
    "\n",
    "# model.config.max_length = 64\n",
    "# model.config.early_stopping = True\n",
    "# model.config.no_repeat_ngram_size = 3\n",
    "# model.config.length_penalty = 2.0\n",
    "# model.config.num_beams = 4"
   ]
  },
  {
   "cell_type": "code",
   "execution_count": null,
   "id": "2813b6d7-5edf-490e-a372-9bba5a6bacf6",
   "metadata": {},
   "outputs": [],
   "source": [
    "from transformers import Seq2SeqTrainer, Seq2SeqTrainingArguments\n",
    "\n",
    "training_args = Seq2SeqTrainingArguments(\n",
    "    predict_with_generate=True,\n",
    "    num_train_epochs=10,\n",
    "    evaluation_strategy=\"epoch\",\n",
    "    per_device_train_batch_size=1,\n",
    "    per_device_eval_batch_size=1,\n",
    "    # fp16=True, \n",
    "    output_dir=\"./\",\n",
    "    # logging_steps=2,\n",
    "    # save_steps=1000,\n",
    "    # eval_steps=200,\n",
    "    report_to=\"none\",\n",
    ")"
   ]
  },
  {
   "cell_type": "code",
   "execution_count": null,
   "id": "8126f563-ae13-4cf3-a873-9ddccbc699c3",
   "metadata": {},
   "outputs": [],
   "source": [
    "from evaluate import load\n",
    "\n",
    "cer_metric = load(\"cer\")"
   ]
  },
  {
   "cell_type": "code",
   "execution_count": null,
   "id": "47e5b38f-9722-4f59-81d1-042e1aaaa824",
   "metadata": {},
   "outputs": [],
   "source": [
    "def compute_metrics(pred):\n",
    "    labels_ids = pred.label_ids\n",
    "    pred_ids = pred.predictions\n",
    "    \n",
    "    pred_str = processor.batch_decode(pred_ids, skip_special_tokens=True)\n",
    "    label_str = processor.batch_decode(labels_ids, skip_special_tokens=True)\n",
    "\n",
    "    print(pred_str, label_str)\n",
    "\n",
    "    cer = cer_metric.compute(predictions=pred_str, references=label_str)\n",
    "\n",
    "    return { \"character_error_rate\": cer }"
   ]
  },
  {
   "cell_type": "code",
   "execution_count": null,
   "id": "4af8b0e0-695f-4ac1-a69a-1512633f6966",
   "metadata": {},
   "outputs": [],
   "source": [
    "from transformers import default_data_collator\n",
    "\n",
    "# instantiate trainer\n",
    "trainer = Seq2SeqTrainer(\n",
    "    model=model,\n",
    "    tokenizer=processor.feature_extractor,\n",
    "    args=training_args,\n",
    "    compute_metrics=compute_metrics,\n",
    "    train_dataset=train_dataset,\n",
    "    eval_dataset=eval_dataset,\n",
    "    data_collator=default_data_collator,\n",
    ")"
   ]
  },
  {
   "cell_type": "code",
   "execution_count": null,
   "id": "dac54900-8764-49c9-bd17-292a64201281",
   "metadata": {},
   "outputs": [],
   "source": [
    "trainer.train()"
   ]
  }
 ],
 "metadata": {
  "kernelspec": {
   "display_name": "Python 3 (ipykernel)",
   "language": "python",
   "name": "python3"
  },
  "language_info": {
   "codemirror_mode": {
    "name": "ipython",
    "version": 3
   },
   "file_extension": ".py",
   "mimetype": "text/x-python",
   "name": "python",
   "nbconvert_exporter": "python",
   "pygments_lexer": "ipython3",
   "version": "3.10.12"
  }
 },
 "nbformat": 4,
 "nbformat_minor": 5
}
